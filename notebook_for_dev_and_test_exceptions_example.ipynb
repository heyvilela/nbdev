{
  "cells": [
    {
      "cell_type": "markdown",
      "metadata": {
        "id": "view-in-github",
        "colab_type": "text"
      },
      "source": [
        "<a href=\"https://colab.research.google.com/github/heyvilela/nbdev/blob/dev/notebook_for_dev_and_test_exceptions_example.ipynb\" target=\"_parent\"><img src=\"https://colab.research.google.com/assets/colab-badge.svg\" alt=\"Open In Colab\"/></a>"
      ]
    },
    {
      "cell_type": "markdown",
      "id": "805810e4-f22a-4901-b4a4-d7e21f169031",
      "metadata": {
        "id": "805810e4-f22a-4901-b4a4-d7e21f169031"
      },
      "source": [
        "**Packages**"
      ]
    },
    {
      "cell_type": "code",
      "execution_count": 1,
      "id": "6a72fa1d-cd22-4ce8-b12b-117f7a2d37b6",
      "metadata": {
        "tags": [],
        "id": "6a72fa1d-cd22-4ce8-b12b-117f7a2d37b6"
      },
      "outputs": [],
      "source": [
        "import pandas as pd\n",
        "import numpy as np"
      ]
    },
    {
      "cell_type": "markdown",
      "id": "15d9ad1a-1828-482b-8408-6e5116dd639a",
      "metadata": {
        "id": "15d9ad1a-1828-482b-8408-6e5116dd639a"
      },
      "source": [
        "**Errors**"
      ]
    },
    {
      "cell_type": "markdown",
      "id": "7e565e68-2cc0-46a7-adf3-960ce64956f3",
      "metadata": {
        "tags": [],
        "id": "7e565e68-2cc0-46a7-adf3-960ce64956f3"
      },
      "source": [
        "`Error 81`"
      ]
    },
    {
      "cell_type": "markdown",
      "id": "26d60758-70c9-4439-a269-35988f7ff11b",
      "metadata": {
        "id": "26d60758-70c9-4439-a269-35988f7ff11b"
      },
      "source": [
        "*Exception class*"
      ]
    },
    {
      "cell_type": "code",
      "execution_count": 2,
      "id": "5fd7bae5-df81-46f3-9322-6531398af6cf",
      "metadata": {
        "tags": [],
        "id": "5fd7bae5-df81-46f3-9322-6531398af6cf"
      },
      "outputs": [],
      "source": [
        "class InvalidDataframeException(Exception):\n",
        "\n",
        "    def __init__(self, variables):\n",
        "        self.dtypes = [type(var) for var in variables]\n",
        "        self.message = f\"Erro 81 - Verifique o tipo das suas variáveis e8X_train, e8X_test, e8y_train, e8y_test: dtypes={self.dtypes}\"\n",
        "        super().__init__(self.message)"
      ]
    },
    {
      "cell_type": "markdown",
      "id": "4bd4ed81-2609-47e2-8f9d-6d75779c0175",
      "metadata": {
        "id": "4bd4ed81-2609-47e2-8f9d-6d75779c0175"
      },
      "source": [
        "*Function*"
      ]
    },
    {
      "cell_type": "code",
      "execution_count": 3,
      "id": "2649f00c-781b-445a-8050-3650ebaeef23",
      "metadata": {
        "tags": [],
        "id": "2649f00c-781b-445a-8050-3650ebaeef23"
      },
      "outputs": [],
      "source": [
        "def error_eightyone_wrongway(variables: list) -> list:\n",
        "\n",
        "    try:\n",
        "\n",
        "        # the lack of .all(), for instance, is a coding error instead of an exception - raising\n",
        "        inspection = np.array([isinstance(var, pd.core.frame.DataFrame) for var in variables])\n",
        "\n",
        "        if not inspection:\n",
        "            exceptions.append(str(InvalidDataframeException(variables)))\n",
        "\n",
        "    # the lack of .all(), for instance, is a coding error instead of an exception - handling\n",
        "    except Exception as e:\n",
        "        exceptions.append(str(e))\n",
        "\n",
        "    finally:\n",
        "        return exceptions"
      ]
    },
    {
      "cell_type": "code",
      "execution_count": 4,
      "id": "6f565ba5-e32f-4768-a878-dcdf613b0897",
      "metadata": {
        "id": "6f565ba5-e32f-4768-a878-dcdf613b0897"
      },
      "outputs": [],
      "source": [
        "def error_eightyone_overdone(variables: list) -> list:\n",
        "\n",
        "    inspection = np.array([isinstance(var, pd.core.frame.DataFrame) for var in variables]).all()\n",
        "\n",
        "    if not inspection:\n",
        "        # it don't need an Exception to do this\n",
        "        exceptions.append(str(InvalidDataframeException(variables)))"
      ]
    },
    {
      "cell_type": "code",
      "execution_count": 5,
      "id": "0b05d542-5644-4be3-bdd4-b4e6e14c0cab",
      "metadata": {
        "tags": [],
        "id": "0b05d542-5644-4be3-bdd4-b4e6e14c0cab"
      },
      "outputs": [],
      "source": [
        "def error_eightyone(variables: list) -> list:\n",
        "\n",
        "    message = None\n",
        "\n",
        "    dtypes = [type(var) for var in variables]\n",
        "    inspection = np.array([isinstance(var, pd.core.frame.DataFrame) for var in variables]).all()\n",
        "\n",
        "    if not inspection:\n",
        "        message = f\"Erro 81 - Verifique o tipo das suas variáveis e8X_train, e8X_test, e8y_train, e8y_test: dtypes={dtypes}\"\n",
        "\n",
        "    return message"
      ]
    },
    {
      "cell_type": "markdown",
      "id": "69284b4e-bbd3-49bc-a35b-b137074ef9dd",
      "metadata": {
        "id": "69284b4e-bbd3-49bc-a35b-b137074ef9dd"
      },
      "source": [
        "*Function sandbox*"
      ]
    },
    {
      "cell_type": "code",
      "execution_count": 6,
      "id": "5631d2ea-dc18-4a0a-96ef-86736f399ff0",
      "metadata": {
        "tags": [],
        "id": "5631d2ea-dc18-4a0a-96ef-86736f399ff0"
      },
      "outputs": [],
      "source": [
        "variables = [pd.DataFrame({\"a\": [1], \"b\": [2]}),\n",
        "             pd.DataFrame({\"a\": [1], \"b\": [2]})]\n",
        "\n",
        "error_eightyone(variables)"
      ]
    },
    {
      "cell_type": "code",
      "execution_count": 7,
      "id": "c4d78cb3-030f-4074-adc6-964e36d4c7e0",
      "metadata": {
        "tags": [],
        "id": "c4d78cb3-030f-4074-adc6-964e36d4c7e0",
        "outputId": "1b9a4bf3-075a-44ce-af24-9d3812087d4d",
        "colab": {
          "base_uri": "https://localhost:8080/",
          "height": 35
        }
      },
      "outputs": [
        {
          "output_type": "execute_result",
          "data": {
            "text/plain": [
              "\"Erro 81 - Verifique o tipo das suas variáveis e8X_train, e8X_test, e8y_train, e8y_test: dtypes=[<class 'numpy.ndarray'>, <class 'pandas.core.frame.DataFrame'>]\""
            ],
            "application/vnd.google.colaboratory.intrinsic+json": {
              "type": "string"
            }
          },
          "metadata": {},
          "execution_count": 7
        }
      ],
      "source": [
        "variables = [np.array([1, 2]),\n",
        "             pd.DataFrame({\"a\": [1], \"b\": [2]})]\n",
        "\n",
        "error_eightyone(variables)"
      ]
    },
    {
      "cell_type": "markdown",
      "id": "fccb2a1d-5096-4615-9fa1-05fa4205cda5",
      "metadata": {
        "id": "fccb2a1d-5096-4615-9fa1-05fa4205cda5"
      },
      "source": [
        "*Tests*"
      ]
    },
    {
      "cell_type": "code",
      "execution_count": 8,
      "id": "74b6124e-edb8-4169-810d-0c1c658ec232",
      "metadata": {
        "tags": [],
        "id": "74b6124e-edb8-4169-810d-0c1c658ec232"
      },
      "outputs": [],
      "source": [
        "def test_expect_error_eightyone_tobe_none():\n",
        "\n",
        "    variables = [pd.DataFrame({\"a\": [1], \"b\": [2]}),\n",
        "                 pd.DataFrame({\"a\": [1], \"b\": [2]})]\n",
        "\n",
        "    assert error_eightyone(variables) == None"
      ]
    },
    {
      "cell_type": "code",
      "execution_count": 9,
      "id": "91715d89-7b9f-49e9-9526-5a2297ef375a",
      "metadata": {
        "tags": [],
        "id": "91715d89-7b9f-49e9-9526-5a2297ef375a"
      },
      "outputs": [],
      "source": [
        "test_expect_error_eightyone_tobe_none()"
      ]
    },
    {
      "cell_type": "code",
      "execution_count": 10,
      "id": "73fddcbf-63f1-4c66-bb95-50810415a894",
      "metadata": {
        "tags": [],
        "id": "73fddcbf-63f1-4c66-bb95-50810415a894"
      },
      "outputs": [],
      "source": [
        "def test_expect_error_eightyone_tobe_raised():\n",
        "\n",
        "    variables = [np.array([1, 2]),\n",
        "                 pd.DataFrame({\"a\": [1], \"b\": [2]})]\n",
        "\n",
        "    assert error_eightyone(variables) == \"Erro 81 - Verifique o tipo das suas variáveis e8X_train, e8X_test, e8y_train, e8y_test: dtypes=[<class 'numpy.ndarray'>, <class 'pandas.core.frame.DataFrame'>]\""
      ]
    },
    {
      "cell_type": "code",
      "execution_count": 11,
      "id": "e7206d3e-4cde-4cc1-a981-ab61a76e0485",
      "metadata": {
        "tags": [],
        "id": "e7206d3e-4cde-4cc1-a981-ab61a76e0485"
      },
      "outputs": [],
      "source": [
        "test_expect_error_eightyone_tobe_raised()"
      ]
    },
    {
      "cell_type": "code",
      "execution_count": null,
      "id": "4aab1143-ea4a-4dc8-9cec-b9a7d640b650",
      "metadata": {
        "id": "4aab1143-ea4a-4dc8-9cec-b9a7d640b650"
      },
      "outputs": [],
      "source": []
    }
  ],
  "metadata": {
    "kernelspec": {
      "display_name": "Python 3 (ipykernel)",
      "language": "python",
      "name": "python3"
    },
    "language_info": {
      "codemirror_mode": {
        "name": "ipython",
        "version": 3
      },
      "file_extension": ".py",
      "mimetype": "text/x-python",
      "name": "python",
      "nbconvert_exporter": "python",
      "pygments_lexer": "ipython3",
      "version": "3.11.0"
    },
    "colab": {
      "provenance": [],
      "include_colab_link": true
    }
  },
  "nbformat": 4,
  "nbformat_minor": 5
}